{
  "nbformat": 4,
  "nbformat_minor": 0,
  "metadata": {
    "accelerator": "GPU",
    "colab": {
      "name": "India Today ML assignment q1.ipynb",
      "provenance": [],
      "collapsed_sections": [],
      "mount_file_id": "177lQ6G_ZfmJ38WevJSoY4I7WpAgxXyIE",
      "authorship_tag": "ABX9TyNsd5uRizn5CnByHNKz25Kk",
      "include_colab_link": true
    },
    "kernelspec": {
      "display_name": "Python 3",
      "name": "python3"
    },
    "language_info": {
      "name": "python"
    },
    "widgets": {
      "application/vnd.jupyter.widget-state+json": {
        "36d79f700eb9447dbc1c7903be7287b3": {
          "model_module": "@jupyter-widgets/controls",
          "model_name": "HBoxModel",
          "model_module_version": "1.5.0",
          "state": {
            "_view_name": "HBoxView",
            "_dom_classes": [],
            "_model_name": "HBoxModel",
            "_view_module": "@jupyter-widgets/controls",
            "_model_module_version": "1.5.0",
            "_view_count": null,
            "_view_module_version": "1.5.0",
            "box_style": "",
            "layout": "IPY_MODEL_b81e37310be445988dd9f8eb9a31df90",
            "_model_module": "@jupyter-widgets/controls",
            "children": [
              "IPY_MODEL_1071f268eaa444caa050e538d0861c97",
              "IPY_MODEL_9bd3e1b581dd480e8282b526bcba002d",
              "IPY_MODEL_a1ea980ed85c4d61bc5820800bf16cc8"
            ]
          }
        },
        "b81e37310be445988dd9f8eb9a31df90": {
          "model_module": "@jupyter-widgets/base",
          "model_name": "LayoutModel",
          "model_module_version": "1.2.0",
          "state": {
            "_view_name": "LayoutView",
            "grid_template_rows": null,
            "right": null,
            "justify_content": null,
            "_view_module": "@jupyter-widgets/base",
            "overflow": null,
            "_model_module_version": "1.2.0",
            "_view_count": null,
            "flex_flow": null,
            "width": null,
            "min_width": null,
            "border": null,
            "align_items": null,
            "bottom": null,
            "_model_module": "@jupyter-widgets/base",
            "top": null,
            "grid_column": null,
            "overflow_y": null,
            "overflow_x": null,
            "grid_auto_flow": null,
            "grid_area": null,
            "grid_template_columns": null,
            "flex": null,
            "_model_name": "LayoutModel",
            "justify_items": null,
            "grid_row": null,
            "max_height": null,
            "align_content": null,
            "visibility": null,
            "align_self": null,
            "height": null,
            "min_height": null,
            "padding": null,
            "grid_auto_rows": null,
            "grid_gap": null,
            "max_width": null,
            "order": null,
            "_view_module_version": "1.2.0",
            "grid_template_areas": null,
            "object_position": null,
            "object_fit": null,
            "grid_auto_columns": null,
            "margin": null,
            "display": null,
            "left": null
          }
        },
        "1071f268eaa444caa050e538d0861c97": {
          "model_module": "@jupyter-widgets/controls",
          "model_name": "HTMLModel",
          "model_module_version": "1.5.0",
          "state": {
            "_view_name": "HTMLView",
            "style": "IPY_MODEL_38c89e8261d444bdb023acc6cda7b560",
            "_dom_classes": [],
            "description": "",
            "_model_name": "HTMLModel",
            "placeholder": "​",
            "_view_module": "@jupyter-widgets/controls",
            "_model_module_version": "1.5.0",
            "value": "100%",
            "_view_count": null,
            "_view_module_version": "1.5.0",
            "description_tooltip": null,
            "_model_module": "@jupyter-widgets/controls",
            "layout": "IPY_MODEL_4046aa1a99df456ea6acadfa45f50e66"
          }
        },
        "9bd3e1b581dd480e8282b526bcba002d": {
          "model_module": "@jupyter-widgets/controls",
          "model_name": "FloatProgressModel",
          "model_module_version": "1.5.0",
          "state": {
            "_view_name": "ProgressView",
            "style": "IPY_MODEL_86a41acba8294b2ebc9c7bc3fd5af1c9",
            "_dom_classes": [],
            "description": "",
            "_model_name": "FloatProgressModel",
            "bar_style": "success",
            "max": 4705,
            "_view_module": "@jupyter-widgets/controls",
            "_model_module_version": "1.5.0",
            "value": 4705,
            "_view_count": null,
            "_view_module_version": "1.5.0",
            "orientation": "horizontal",
            "min": 0,
            "description_tooltip": null,
            "_model_module": "@jupyter-widgets/controls",
            "layout": "IPY_MODEL_a9431e90bf9d4492817aa87d82e31fda"
          }
        },
        "a1ea980ed85c4d61bc5820800bf16cc8": {
          "model_module": "@jupyter-widgets/controls",
          "model_name": "HTMLModel",
          "model_module_version": "1.5.0",
          "state": {
            "_view_name": "HTMLView",
            "style": "IPY_MODEL_8979ed384c7e47899937ab07ec5474d7",
            "_dom_classes": [],
            "description": "",
            "_model_name": "HTMLModel",
            "placeholder": "​",
            "_view_module": "@jupyter-widgets/controls",
            "_model_module_version": "1.5.0",
            "value": " 4705/4705 [14:28&lt;00:00,  4.22it/s]",
            "_view_count": null,
            "_view_module_version": "1.5.0",
            "description_tooltip": null,
            "_model_module": "@jupyter-widgets/controls",
            "layout": "IPY_MODEL_bf1acdec421541e082ec1ed6c7fbaee1"
          }
        },
        "38c89e8261d444bdb023acc6cda7b560": {
          "model_module": "@jupyter-widgets/controls",
          "model_name": "DescriptionStyleModel",
          "model_module_version": "1.5.0",
          "state": {
            "_view_name": "StyleView",
            "_model_name": "DescriptionStyleModel",
            "description_width": "",
            "_view_module": "@jupyter-widgets/base",
            "_model_module_version": "1.5.0",
            "_view_count": null,
            "_view_module_version": "1.2.0",
            "_model_module": "@jupyter-widgets/controls"
          }
        },
        "4046aa1a99df456ea6acadfa45f50e66": {
          "model_module": "@jupyter-widgets/base",
          "model_name": "LayoutModel",
          "model_module_version": "1.2.0",
          "state": {
            "_view_name": "LayoutView",
            "grid_template_rows": null,
            "right": null,
            "justify_content": null,
            "_view_module": "@jupyter-widgets/base",
            "overflow": null,
            "_model_module_version": "1.2.0",
            "_view_count": null,
            "flex_flow": null,
            "width": null,
            "min_width": null,
            "border": null,
            "align_items": null,
            "bottom": null,
            "_model_module": "@jupyter-widgets/base",
            "top": null,
            "grid_column": null,
            "overflow_y": null,
            "overflow_x": null,
            "grid_auto_flow": null,
            "grid_area": null,
            "grid_template_columns": null,
            "flex": null,
            "_model_name": "LayoutModel",
            "justify_items": null,
            "grid_row": null,
            "max_height": null,
            "align_content": null,
            "visibility": null,
            "align_self": null,
            "height": null,
            "min_height": null,
            "padding": null,
            "grid_auto_rows": null,
            "grid_gap": null,
            "max_width": null,
            "order": null,
            "_view_module_version": "1.2.0",
            "grid_template_areas": null,
            "object_position": null,
            "object_fit": null,
            "grid_auto_columns": null,
            "margin": null,
            "display": null,
            "left": null
          }
        },
        "86a41acba8294b2ebc9c7bc3fd5af1c9": {
          "model_module": "@jupyter-widgets/controls",
          "model_name": "ProgressStyleModel",
          "model_module_version": "1.5.0",
          "state": {
            "_view_name": "StyleView",
            "_model_name": "ProgressStyleModel",
            "description_width": "",
            "_view_module": "@jupyter-widgets/base",
            "_model_module_version": "1.5.0",
            "_view_count": null,
            "_view_module_version": "1.2.0",
            "bar_color": null,
            "_model_module": "@jupyter-widgets/controls"
          }
        },
        "a9431e90bf9d4492817aa87d82e31fda": {
          "model_module": "@jupyter-widgets/base",
          "model_name": "LayoutModel",
          "model_module_version": "1.2.0",
          "state": {
            "_view_name": "LayoutView",
            "grid_template_rows": null,
            "right": null,
            "justify_content": null,
            "_view_module": "@jupyter-widgets/base",
            "overflow": null,
            "_model_module_version": "1.2.0",
            "_view_count": null,
            "flex_flow": null,
            "width": null,
            "min_width": null,
            "border": null,
            "align_items": null,
            "bottom": null,
            "_model_module": "@jupyter-widgets/base",
            "top": null,
            "grid_column": null,
            "overflow_y": null,
            "overflow_x": null,
            "grid_auto_flow": null,
            "grid_area": null,
            "grid_template_columns": null,
            "flex": null,
            "_model_name": "LayoutModel",
            "justify_items": null,
            "grid_row": null,
            "max_height": null,
            "align_content": null,
            "visibility": null,
            "align_self": null,
            "height": null,
            "min_height": null,
            "padding": null,
            "grid_auto_rows": null,
            "grid_gap": null,
            "max_width": null,
            "order": null,
            "_view_module_version": "1.2.0",
            "grid_template_areas": null,
            "object_position": null,
            "object_fit": null,
            "grid_auto_columns": null,
            "margin": null,
            "display": null,
            "left": null
          }
        },
        "8979ed384c7e47899937ab07ec5474d7": {
          "model_module": "@jupyter-widgets/controls",
          "model_name": "DescriptionStyleModel",
          "model_module_version": "1.5.0",
          "state": {
            "_view_name": "StyleView",
            "_model_name": "DescriptionStyleModel",
            "description_width": "",
            "_view_module": "@jupyter-widgets/base",
            "_model_module_version": "1.5.0",
            "_view_count": null,
            "_view_module_version": "1.2.0",
            "_model_module": "@jupyter-widgets/controls"
          }
        },
        "bf1acdec421541e082ec1ed6c7fbaee1": {
          "model_module": "@jupyter-widgets/base",
          "model_name": "LayoutModel",
          "model_module_version": "1.2.0",
          "state": {
            "_view_name": "LayoutView",
            "grid_template_rows": null,
            "right": null,
            "justify_content": null,
            "_view_module": "@jupyter-widgets/base",
            "overflow": null,
            "_model_module_version": "1.2.0",
            "_view_count": null,
            "flex_flow": null,
            "width": null,
            "min_width": null,
            "border": null,
            "align_items": null,
            "bottom": null,
            "_model_module": "@jupyter-widgets/base",
            "top": null,
            "grid_column": null,
            "overflow_y": null,
            "overflow_x": null,
            "grid_auto_flow": null,
            "grid_area": null,
            "grid_template_columns": null,
            "flex": null,
            "_model_name": "LayoutModel",
            "justify_items": null,
            "grid_row": null,
            "max_height": null,
            "align_content": null,
            "visibility": null,
            "align_self": null,
            "height": null,
            "min_height": null,
            "padding": null,
            "grid_auto_rows": null,
            "grid_gap": null,
            "max_width": null,
            "order": null,
            "_view_module_version": "1.2.0",
            "grid_template_areas": null,
            "object_position": null,
            "object_fit": null,
            "grid_auto_columns": null,
            "margin": null,
            "display": null,
            "left": null
          }
        },
        "b5a1781217804db382488805254f1814": {
          "model_module": "@jupyter-widgets/controls",
          "model_name": "HBoxModel",
          "model_module_version": "1.5.0",
          "state": {
            "_view_name": "HBoxView",
            "_dom_classes": [],
            "_model_name": "HBoxModel",
            "_view_module": "@jupyter-widgets/controls",
            "_model_module_version": "1.5.0",
            "_view_count": null,
            "_view_module_version": "1.5.0",
            "box_style": "",
            "layout": "IPY_MODEL_e810f147dca244c2b19cb988ef6a1a84",
            "_model_module": "@jupyter-widgets/controls",
            "children": [
              "IPY_MODEL_a76025f33d7a41108d8090406a619ee0",
              "IPY_MODEL_ae34e62ac70f40b19f227971254e9e45",
              "IPY_MODEL_8b944426c978468caebe176bcd335b52"
            ]
          }
        },
        "e810f147dca244c2b19cb988ef6a1a84": {
          "model_module": "@jupyter-widgets/base",
          "model_name": "LayoutModel",
          "model_module_version": "1.2.0",
          "state": {
            "_view_name": "LayoutView",
            "grid_template_rows": null,
            "right": null,
            "justify_content": null,
            "_view_module": "@jupyter-widgets/base",
            "overflow": null,
            "_model_module_version": "1.2.0",
            "_view_count": null,
            "flex_flow": null,
            "width": null,
            "min_width": null,
            "border": null,
            "align_items": null,
            "bottom": null,
            "_model_module": "@jupyter-widgets/base",
            "top": null,
            "grid_column": null,
            "overflow_y": null,
            "overflow_x": null,
            "grid_auto_flow": null,
            "grid_area": null,
            "grid_template_columns": null,
            "flex": null,
            "_model_name": "LayoutModel",
            "justify_items": null,
            "grid_row": null,
            "max_height": null,
            "align_content": null,
            "visibility": null,
            "align_self": null,
            "height": null,
            "min_height": null,
            "padding": null,
            "grid_auto_rows": null,
            "grid_gap": null,
            "max_width": null,
            "order": null,
            "_view_module_version": "1.2.0",
            "grid_template_areas": null,
            "object_position": null,
            "object_fit": null,
            "grid_auto_columns": null,
            "margin": null,
            "display": null,
            "left": null
          }
        },
        "a76025f33d7a41108d8090406a619ee0": {
          "model_module": "@jupyter-widgets/controls",
          "model_name": "HTMLModel",
          "model_module_version": "1.5.0",
          "state": {
            "_view_name": "HTMLView",
            "style": "IPY_MODEL_72e6e12ad6ba42f79cd38002d0462c5d",
            "_dom_classes": [],
            "description": "",
            "_model_name": "HTMLModel",
            "placeholder": "​",
            "_view_module": "@jupyter-widgets/controls",
            "_model_module_version": "1.5.0",
            "value": "100%",
            "_view_count": null,
            "_view_module_version": "1.5.0",
            "description_tooltip": null,
            "_model_module": "@jupyter-widgets/controls",
            "layout": "IPY_MODEL_c40ffa982f42446caf9b20443f9ac8d3"
          }
        },
        "ae34e62ac70f40b19f227971254e9e45": {
          "model_module": "@jupyter-widgets/controls",
          "model_name": "FloatProgressModel",
          "model_module_version": "1.5.0",
          "state": {
            "_view_name": "ProgressView",
            "style": "IPY_MODEL_8ab11b1d43d646b28a3b2bce93d13ef0",
            "_dom_classes": [],
            "description": "",
            "_model_name": "FloatProgressModel",
            "bar_style": "success",
            "max": 831,
            "_view_module": "@jupyter-widgets/controls",
            "_model_module_version": "1.5.0",
            "value": 831,
            "_view_count": null,
            "_view_module_version": "1.5.0",
            "orientation": "horizontal",
            "min": 0,
            "description_tooltip": null,
            "_model_module": "@jupyter-widgets/controls",
            "layout": "IPY_MODEL_60c8b98567a54caa993bb9c8f9720ae6"
          }
        },
        "8b944426c978468caebe176bcd335b52": {
          "model_module": "@jupyter-widgets/controls",
          "model_name": "HTMLModel",
          "model_module_version": "1.5.0",
          "state": {
            "_view_name": "HTMLView",
            "style": "IPY_MODEL_3da3fdd7693b40c7a9b39943857b2a2a",
            "_dom_classes": [],
            "description": "",
            "_model_name": "HTMLModel",
            "placeholder": "​",
            "_view_module": "@jupyter-widgets/controls",
            "_model_module_version": "1.5.0",
            "value": " 831/831 [02:34&lt;00:00,  5.17it/s]",
            "_view_count": null,
            "_view_module_version": "1.5.0",
            "description_tooltip": null,
            "_model_module": "@jupyter-widgets/controls",
            "layout": "IPY_MODEL_d93086a1c01041fa82a85684007bc188"
          }
        },
        "72e6e12ad6ba42f79cd38002d0462c5d": {
          "model_module": "@jupyter-widgets/controls",
          "model_name": "DescriptionStyleModel",
          "model_module_version": "1.5.0",
          "state": {
            "_view_name": "StyleView",
            "_model_name": "DescriptionStyleModel",
            "description_width": "",
            "_view_module": "@jupyter-widgets/base",
            "_model_module_version": "1.5.0",
            "_view_count": null,
            "_view_module_version": "1.2.0",
            "_model_module": "@jupyter-widgets/controls"
          }
        },
        "c40ffa982f42446caf9b20443f9ac8d3": {
          "model_module": "@jupyter-widgets/base",
          "model_name": "LayoutModel",
          "model_module_version": "1.2.0",
          "state": {
            "_view_name": "LayoutView",
            "grid_template_rows": null,
            "right": null,
            "justify_content": null,
            "_view_module": "@jupyter-widgets/base",
            "overflow": null,
            "_model_module_version": "1.2.0",
            "_view_count": null,
            "flex_flow": null,
            "width": null,
            "min_width": null,
            "border": null,
            "align_items": null,
            "bottom": null,
            "_model_module": "@jupyter-widgets/base",
            "top": null,
            "grid_column": null,
            "overflow_y": null,
            "overflow_x": null,
            "grid_auto_flow": null,
            "grid_area": null,
            "grid_template_columns": null,
            "flex": null,
            "_model_name": "LayoutModel",
            "justify_items": null,
            "grid_row": null,
            "max_height": null,
            "align_content": null,
            "visibility": null,
            "align_self": null,
            "height": null,
            "min_height": null,
            "padding": null,
            "grid_auto_rows": null,
            "grid_gap": null,
            "max_width": null,
            "order": null,
            "_view_module_version": "1.2.0",
            "grid_template_areas": null,
            "object_position": null,
            "object_fit": null,
            "grid_auto_columns": null,
            "margin": null,
            "display": null,
            "left": null
          }
        },
        "8ab11b1d43d646b28a3b2bce93d13ef0": {
          "model_module": "@jupyter-widgets/controls",
          "model_name": "ProgressStyleModel",
          "model_module_version": "1.5.0",
          "state": {
            "_view_name": "StyleView",
            "_model_name": "ProgressStyleModel",
            "description_width": "",
            "_view_module": "@jupyter-widgets/base",
            "_model_module_version": "1.5.0",
            "_view_count": null,
            "_view_module_version": "1.2.0",
            "bar_color": null,
            "_model_module": "@jupyter-widgets/controls"
          }
        },
        "60c8b98567a54caa993bb9c8f9720ae6": {
          "model_module": "@jupyter-widgets/base",
          "model_name": "LayoutModel",
          "model_module_version": "1.2.0",
          "state": {
            "_view_name": "LayoutView",
            "grid_template_rows": null,
            "right": null,
            "justify_content": null,
            "_view_module": "@jupyter-widgets/base",
            "overflow": null,
            "_model_module_version": "1.2.0",
            "_view_count": null,
            "flex_flow": null,
            "width": null,
            "min_width": null,
            "border": null,
            "align_items": null,
            "bottom": null,
            "_model_module": "@jupyter-widgets/base",
            "top": null,
            "grid_column": null,
            "overflow_y": null,
            "overflow_x": null,
            "grid_auto_flow": null,
            "grid_area": null,
            "grid_template_columns": null,
            "flex": null,
            "_model_name": "LayoutModel",
            "justify_items": null,
            "grid_row": null,
            "max_height": null,
            "align_content": null,
            "visibility": null,
            "align_self": null,
            "height": null,
            "min_height": null,
            "padding": null,
            "grid_auto_rows": null,
            "grid_gap": null,
            "max_width": null,
            "order": null,
            "_view_module_version": "1.2.0",
            "grid_template_areas": null,
            "object_position": null,
            "object_fit": null,
            "grid_auto_columns": null,
            "margin": null,
            "display": null,
            "left": null
          }
        },
        "3da3fdd7693b40c7a9b39943857b2a2a": {
          "model_module": "@jupyter-widgets/controls",
          "model_name": "DescriptionStyleModel",
          "model_module_version": "1.5.0",
          "state": {
            "_view_name": "StyleView",
            "_model_name": "DescriptionStyleModel",
            "description_width": "",
            "_view_module": "@jupyter-widgets/base",
            "_model_module_version": "1.5.0",
            "_view_count": null,
            "_view_module_version": "1.2.0",
            "_model_module": "@jupyter-widgets/controls"
          }
        },
        "d93086a1c01041fa82a85684007bc188": {
          "model_module": "@jupyter-widgets/base",
          "model_name": "LayoutModel",
          "model_module_version": "1.2.0",
          "state": {
            "_view_name": "LayoutView",
            "grid_template_rows": null,
            "right": null,
            "justify_content": null,
            "_view_module": "@jupyter-widgets/base",
            "overflow": null,
            "_model_module_version": "1.2.0",
            "_view_count": null,
            "flex_flow": null,
            "width": null,
            "min_width": null,
            "border": null,
            "align_items": null,
            "bottom": null,
            "_model_module": "@jupyter-widgets/base",
            "top": null,
            "grid_column": null,
            "overflow_y": null,
            "overflow_x": null,
            "grid_auto_flow": null,
            "grid_area": null,
            "grid_template_columns": null,
            "flex": null,
            "_model_name": "LayoutModel",
            "justify_items": null,
            "grid_row": null,
            "max_height": null,
            "align_content": null,
            "visibility": null,
            "align_self": null,
            "height": null,
            "min_height": null,
            "padding": null,
            "grid_auto_rows": null,
            "grid_gap": null,
            "max_width": null,
            "order": null,
            "_view_module_version": "1.2.0",
            "grid_template_areas": null,
            "object_position": null,
            "object_fit": null,
            "grid_auto_columns": null,
            "margin": null,
            "display": null,
            "left": null
          }
        }
      }
    }
  },
  "cells": [
    {
      "cell_type": "markdown",
      "metadata": {
        "id": "view-in-github",
        "colab_type": "text"
      },
      "source": [
        "<a href=\"https://colab.research.google.com/github/Arush0113/ML-Programming-Assignments/blob/main/India%20Today%20AI_ML%20Profile/India_Today_ML_assignment_q1.ipynb\" target=\"_parent\"><img src=\"https://colab.research.google.com/assets/colab-badge.svg\" alt=\"Open In Colab\"/></a>"
      ]
    },
    {
      "cell_type": "code",
      "metadata": {
        "colab": {
          "base_uri": "https://localhost:8080/"
        },
        "id": "jj8pi98Td866",
        "outputId": "ea0b6732-ba8c-4c62-f70a-778c72f0617d"
      },
      "source": [
        "from google.colab import drive\n",
        "drive.mount('/content/drive')"
      ],
      "execution_count": 1,
      "outputs": [
        {
          "output_type": "stream",
          "name": "stdout",
          "text": [
            "Drive already mounted at /content/drive; to attempt to forcibly remount, call drive.mount(\"/content/drive\", force_remount=True).\n"
          ]
        }
      ]
    },
    {
      "cell_type": "code",
      "metadata": {
        "id": "Y0W1fngafRiy"
      },
      "source": [
        "import pandas as pd\n",
        "df = pd.read_csv('/content/drive/MyDrive/eyewear_ml_challenge.csv', delimiter = ',')"
      ],
      "execution_count": 2,
      "outputs": []
    },
    {
      "cell_type": "code",
      "metadata": {
        "colab": {
          "base_uri": "https://localhost:8080/",
          "height": 614
        },
        "id": "r6gAotkAfxRT",
        "outputId": "48523581-af4e-418b-9cff-dcd821f431ff"
      },
      "source": [
        "df"
      ],
      "execution_count": 3,
      "outputs": [
        {
          "output_type": "execute_result",
          "data": {
            "text/html": [
              "<div>\n",
              "<style scoped>\n",
              "    .dataframe tbody tr th:only-of-type {\n",
              "        vertical-align: middle;\n",
              "    }\n",
              "\n",
              "    .dataframe tbody tr th {\n",
              "        vertical-align: top;\n",
              "    }\n",
              "\n",
              "    .dataframe thead th {\n",
              "        text-align: right;\n",
              "    }\n",
              "</style>\n",
              "<table border=\"1\" class=\"dataframe\">\n",
              "  <thead>\n",
              "    <tr style=\"text-align: right;\">\n",
              "      <th></th>\n",
              "      <th>Unnamed: 0</th>\n",
              "      <th>product_name</th>\n",
              "      <th>product_id</th>\n",
              "      <th>parent_category</th>\n",
              "      <th>Image_Front</th>\n",
              "      <th>frame_shape</th>\n",
              "    </tr>\n",
              "  </thead>\n",
              "  <tbody>\n",
              "    <tr>\n",
              "      <th>0</th>\n",
              "      <td>0</td>\n",
              "      <td>Vintage Persona C4</td>\n",
              "      <td>7641</td>\n",
              "      <td>eyeframe</td>\n",
              "      <td>http://tak-apps-dev.s3.amazonaws.com/recruitme...</td>\n",
              "      <td>Rectangle</td>\n",
              "    </tr>\n",
              "    <tr>\n",
              "      <th>1</th>\n",
              "      <td>1</td>\n",
              "      <td>Vintage Crazy-X C2 Red</td>\n",
              "      <td>7643</td>\n",
              "      <td>eyeframe</td>\n",
              "      <td>http://tak-apps-dev.s3.amazonaws.com/recruitme...</td>\n",
              "      <td>Rectangle</td>\n",
              "    </tr>\n",
              "    <tr>\n",
              "      <th>2</th>\n",
              "      <td>2</td>\n",
              "      <td>Jialedi Eyewear 1086 C8 Blue</td>\n",
              "      <td>8254</td>\n",
              "      <td>eyeframe</td>\n",
              "      <td>http://tak-apps-dev.s3.amazonaws.com/recruitme...</td>\n",
              "      <td>Rectangle</td>\n",
              "    </tr>\n",
              "    <tr>\n",
              "      <th>3</th>\n",
              "      <td>3</td>\n",
              "      <td>Jialedi Eyewear 1086 C6 Red</td>\n",
              "      <td>8255</td>\n",
              "      <td>eyeframe</td>\n",
              "      <td>http://tak-apps-dev.s3.amazonaws.com/recruitme...</td>\n",
              "      <td>Rectangle</td>\n",
              "    </tr>\n",
              "    <tr>\n",
              "      <th>4</th>\n",
              "      <td>4</td>\n",
              "      <td>Jialedi Eyewear 1086 C4 Tortoise Transperent</td>\n",
              "      <td>8256</td>\n",
              "      <td>eyeframe</td>\n",
              "      <td>http://tak-apps-dev.s3.amazonaws.com/recruitme...</td>\n",
              "      <td>Rectangle</td>\n",
              "    </tr>\n",
              "    <tr>\n",
              "      <th>...</th>\n",
              "      <td>...</td>\n",
              "      <td>...</td>\n",
              "      <td>...</td>\n",
              "      <td>...</td>\n",
              "      <td>...</td>\n",
              "      <td>...</td>\n",
              "    </tr>\n",
              "    <tr>\n",
              "      <th>5564</th>\n",
              "      <td>5565</td>\n",
              "      <td>Black White Full Rim Rectangle Vincent Chase O...</td>\n",
              "      <td>99444</td>\n",
              "      <td>Non-Power Reading</td>\n",
              "      <td>http://tak-apps-dev.s3.amazonaws.com/recruitme...</td>\n",
              "      <td>Rectangle</td>\n",
              "    </tr>\n",
              "    <tr>\n",
              "      <th>5565</th>\n",
              "      <td>5566</td>\n",
              "      <td>Maroon Full Rim Rectangle Vincent Chase Online...</td>\n",
              "      <td>99445</td>\n",
              "      <td>Non-Power Reading</td>\n",
              "      <td>http://tak-apps-dev.s3.amazonaws.com/recruitme...</td>\n",
              "      <td>Rectangle</td>\n",
              "    </tr>\n",
              "    <tr>\n",
              "      <th>5566</th>\n",
              "      <td>5567</td>\n",
              "      <td>Todaywear TOI Special: Black Blue Full Rim Rec...</td>\n",
              "      <td>99446</td>\n",
              "      <td>Non-Power Reading</td>\n",
              "      <td>http://tak-apps-dev.s3.amazonaws.com/recruitme...</td>\n",
              "      <td>Rectangle</td>\n",
              "    </tr>\n",
              "    <tr>\n",
              "      <th>5567</th>\n",
              "      <td>5568</td>\n",
              "      <td>Tortoise Full Rim Rectangle Vincent Chase Onli...</td>\n",
              "      <td>99447</td>\n",
              "      <td>Non-Power Reading</td>\n",
              "      <td>http://tak-apps-dev.s3.amazonaws.com/recruitme...</td>\n",
              "      <td>Rectangle</td>\n",
              "    </tr>\n",
              "    <tr>\n",
              "      <th>5568</th>\n",
              "      <td>5569</td>\n",
              "      <td>Black Red Full Rim Rectangle Vincent Chase Onl...</td>\n",
              "      <td>99448</td>\n",
              "      <td>Non-Power Reading</td>\n",
              "      <td>http://tak-apps-dev.s3.amazonaws.com/recruitme...</td>\n",
              "      <td>Rectangle</td>\n",
              "    </tr>\n",
              "  </tbody>\n",
              "</table>\n",
              "<p>5569 rows × 6 columns</p>\n",
              "</div>"
            ],
            "text/plain": [
              "      Unnamed: 0  ... frame_shape\n",
              "0              0  ...   Rectangle\n",
              "1              1  ...   Rectangle\n",
              "2              2  ...   Rectangle\n",
              "3              3  ...   Rectangle\n",
              "4              4  ...   Rectangle\n",
              "...          ...  ...         ...\n",
              "5564        5565  ...   Rectangle\n",
              "5565        5566  ...   Rectangle\n",
              "5566        5567  ...   Rectangle\n",
              "5567        5568  ...   Rectangle\n",
              "5568        5569  ...   Rectangle\n",
              "\n",
              "[5569 rows x 6 columns]"
            ]
          },
          "metadata": {},
          "execution_count": 3
        }
      ]
    },
    {
      "cell_type": "code",
      "metadata": {
        "id": "lD7a-1haLd9a"
      },
      "source": [
        "import pandas as pd\n",
        "import numpy as np\n",
        "import tensorflow as tf\n",
        "import requests\n",
        "from tqdm.notebook import trange, tqdm\n",
        "import shutil\n",
        "import os\n",
        "from sklearn.model_selection import train_test_split\n",
        "import cv2\n",
        "import matplotlib.pyplot as plt\n",
        "%matplotlib inline"
      ],
      "execution_count": 4,
      "outputs": []
    },
    {
      "cell_type": "code",
      "metadata": {
        "colab": {
          "base_uri": "https://localhost:8080/"
        },
        "id": "EmHvDiwYRYWz",
        "outputId": "189a8c4b-4fac-4e9a-98c8-d57b42d0961e"
      },
      "source": [
        "!mkdir /content/drive/MyDrive/india_today_ml_asst"
      ],
      "execution_count": 5,
      "outputs": [
        {
          "output_type": "stream",
          "name": "stdout",
          "text": [
            "mkdir: cannot create directory ‘/content/drive/MyDrive/india_today_ml_asst’: File exists\n"
          ]
        }
      ]
    },
    {
      "cell_type": "code",
      "metadata": {
        "id": "nFTx3V70c9CI"
      },
      "source": [
        "# for i,row in tqdm(df.iterrows()):\n",
        "#     image_url = row['Image_Front']\n",
        "#     # print(image_url)\n",
        "#     filename = image_url.split(\"/\")[-1]\n",
        "\n",
        "#     r = requests.get(image_url, stream = True)\n",
        "\n",
        "#     if r.status_code == 200:\n",
        "#         r.raw.decode_content = True\n",
        "        \n",
        "#         with open('/content/drive/MyDrive/india_today_ml_asst/'+filename,'wb') as f:\n",
        "#             shutil.copyfileobj(r.raw, f)\n",
        "            \n",
        "#         print('Image sucessfully Downloaded: ',filename)\n",
        "#     else:\n",
        "#         print('Image Couldn\\'t be retreived')"
      ],
      "execution_count": 6,
      "outputs": []
    },
    {
      "cell_type": "code",
      "metadata": {
        "colab": {
          "base_uri": "https://localhost:8080/"
        },
        "id": "gc5efmMOm716",
        "outputId": "98bc8b14-ebd7-45eb-9a11-0b6bb2672b61"
      },
      "source": [
        "file_path = os.listdir('/content/drive/MyDrive/india_today_ml_asst')\n",
        "print(len(file_path))\n",
        "\n",
        "train_files, test_files = train_test_split(file_path, test_size = 0.15)\n",
        "\n",
        "print(len(train_files))\n",
        "print(len(test_files))\n",
        "\n",
        "train_files = pd.DataFrame(train_files,columns=['filepath'])\n",
        "test_files = pd.DataFrame(test_files,columns=['filepath'])\n",
        "\n",
        "train_files.to_csv('/content/drive/MyDrive/india_today_ml_asst/train_file.csv')\n",
        "test_files.to_csv('/content/drive/MyDrive/india_today_ml_asst/test_file.csv')"
      ],
      "execution_count": 7,
      "outputs": [
        {
          "output_type": "stream",
          "name": "stdout",
          "text": [
            "5536\n",
            "4705\n",
            "831\n"
          ]
        }
      ]
    },
    {
      "cell_type": "code",
      "metadata": {
        "colab": {
          "base_uri": "https://localhost:8080/",
          "height": 423
        },
        "id": "T6zuzoJq7719",
        "outputId": "bbf18a77-986c-4f7b-80f5-52a5c01b44fb"
      },
      "source": [
        "train_files"
      ],
      "execution_count": 8,
      "outputs": [
        {
          "output_type": "execute_result",
          "data": {
            "text/html": [
              "<div>\n",
              "<style scoped>\n",
              "    .dataframe tbody tr th:only-of-type {\n",
              "        vertical-align: middle;\n",
              "    }\n",
              "\n",
              "    .dataframe tbody tr th {\n",
              "        vertical-align: top;\n",
              "    }\n",
              "\n",
              "    .dataframe thead th {\n",
              "        text-align: right;\n",
              "    }\n",
              "</style>\n",
              "<table border=\"1\" class=\"dataframe\">\n",
              "  <thead>\n",
              "    <tr style=\"text-align: right;\">\n",
              "      <th></th>\n",
              "      <th>filepath</th>\n",
              "    </tr>\n",
              "  </thead>\n",
              "  <tbody>\n",
              "    <tr>\n",
              "      <th>0</th>\n",
              "      <td>IMG_8006_3.JPG</td>\n",
              "    </tr>\n",
              "    <tr>\n",
              "      <th>1</th>\n",
              "      <td>lux-rayban-rb3025-58-arista-brown-slvr-mirror-...</td>\n",
              "    </tr>\n",
              "    <tr>\n",
              "      <th>2</th>\n",
              "      <td>IMG_9819_3.JPG</td>\n",
              "    </tr>\n",
              "    <tr>\n",
              "      <th>3</th>\n",
              "      <td>lux-ray-ban-rb3386-004-9a-size-67-sunglasses_i...</td>\n",
              "    </tr>\n",
              "    <tr>\n",
              "      <th>4</th>\n",
              "      <td>vincent-chase-k736-black-white-blue-gradient-w...</td>\n",
              "    </tr>\n",
              "    <tr>\n",
              "      <th>...</th>\n",
              "      <td>...</td>\n",
              "    </tr>\n",
              "    <tr>\n",
              "      <th>4700</th>\n",
              "      <td>IMG_3596.JPG</td>\n",
              "    </tr>\n",
              "    <tr>\n",
              "      <th>4701</th>\n",
              "      <td>D_7736_3.jpg</td>\n",
              "    </tr>\n",
              "    <tr>\n",
              "      <th>4702</th>\n",
              "      <td>IMG_9452.JPG</td>\n",
              "    </tr>\n",
              "    <tr>\n",
              "      <th>4703</th>\n",
              "      <td>M_8210_2.jpg</td>\n",
              "    </tr>\n",
              "    <tr>\n",
              "      <th>4704</th>\n",
              "      <td>J_9118.jpg</td>\n",
              "    </tr>\n",
              "  </tbody>\n",
              "</table>\n",
              "<p>4705 rows × 1 columns</p>\n",
              "</div>"
            ],
            "text/plain": [
              "                                               filepath\n",
              "0                                        IMG_8006_3.JPG\n",
              "1     lux-rayban-rb3025-58-arista-brown-slvr-mirror-...\n",
              "2                                        IMG_9819_3.JPG\n",
              "3     lux-ray-ban-rb3386-004-9a-size-67-sunglasses_i...\n",
              "4     vincent-chase-k736-black-white-blue-gradient-w...\n",
              "...                                                 ...\n",
              "4700                                       IMG_3596.JPG\n",
              "4701                                       D_7736_3.jpg\n",
              "4702                                       IMG_9452.JPG\n",
              "4703                                       M_8210_2.jpg\n",
              "4704                                         J_9118.jpg\n",
              "\n",
              "[4705 rows x 1 columns]"
            ]
          },
          "metadata": {},
          "execution_count": 8
        }
      ]
    },
    {
      "cell_type": "code",
      "metadata": {
        "id": "EsgDNZs38Ibq"
      },
      "source": [
        "def image2array(file_array):\n",
        "  \n",
        " image_array = []\n",
        " for path in tqdm(file_array):\n",
        "  img = cv2.imread('/content/drive/MyDrive/india_today_ml_asst/'+path)\n",
        "    #  img = cv2.cvtColor(img, cv2.COLOR_BGR2RGB)\n",
        "  # print(img.shape)\n",
        "  try:\n",
        "    img = cv2.resize(img, (224,224))\n",
        "    image_array.append(np.array(img))\n",
        "  except:\n",
        "    continue;\n",
        " image_array = np.array(image_array)\n",
        "#  image_array = image_array.reshape(image_array.shape[0], 224, 224, 3)\n",
        " image_array = image_array.astype('float32')\n",
        " image_array /= 255\n",
        " return np.array(image_array)\n"
      ],
      "execution_count": 9,
      "outputs": []
    },
    {
      "cell_type": "code",
      "metadata": {
        "colab": {
          "base_uri": "https://localhost:8080/",
          "height": 116,
          "referenced_widgets": [
            "36d79f700eb9447dbc1c7903be7287b3",
            "b81e37310be445988dd9f8eb9a31df90",
            "1071f268eaa444caa050e538d0861c97",
            "9bd3e1b581dd480e8282b526bcba002d",
            "a1ea980ed85c4d61bc5820800bf16cc8",
            "38c89e8261d444bdb023acc6cda7b560",
            "4046aa1a99df456ea6acadfa45f50e66",
            "86a41acba8294b2ebc9c7bc3fd5af1c9",
            "a9431e90bf9d4492817aa87d82e31fda",
            "8979ed384c7e47899937ab07ec5474d7",
            "bf1acdec421541e082ec1ed6c7fbaee1",
            "b5a1781217804db382488805254f1814",
            "e810f147dca244c2b19cb988ef6a1a84",
            "a76025f33d7a41108d8090406a619ee0",
            "ae34e62ac70f40b19f227971254e9e45",
            "8b944426c978468caebe176bcd335b52",
            "72e6e12ad6ba42f79cd38002d0462c5d",
            "c40ffa982f42446caf9b20443f9ac8d3",
            "8ab11b1d43d646b28a3b2bce93d13ef0",
            "60c8b98567a54caa993bb9c8f9720ae6",
            "3da3fdd7693b40c7a9b39943857b2a2a",
            "d93086a1c01041fa82a85684007bc188"
          ]
        },
        "id": "7OI1tpq59bJ_",
        "outputId": "87d01a67-78b8-43e5-bdb3-8ece101bf583"
      },
      "source": [
        "train_data = image2array(train_files.filepath)\n",
        "print(\"Length of training dataset:\",train_data.shape)\n",
        "test_data = image2array(test_files.filepath)\n",
        "print(\"Length of test dataset:\",test_data.shape)"
      ],
      "execution_count": 10,
      "outputs": [
        {
          "output_type": "display_data",
          "data": {
            "application/vnd.jupyter.widget-view+json": {
              "model_id": "36d79f700eb9447dbc1c7903be7287b3",
              "version_minor": 0,
              "version_major": 2
            },
            "text/plain": [
              "  0%|          | 0/4705 [00:00<?, ?it/s]"
            ]
          },
          "metadata": {}
        },
        {
          "output_type": "stream",
          "name": "stdout",
          "text": [
            "Length of training dataset: (4704, 224, 224, 3)\n"
          ]
        },
        {
          "output_type": "display_data",
          "data": {
            "application/vnd.jupyter.widget-view+json": {
              "model_id": "b5a1781217804db382488805254f1814",
              "version_minor": 0,
              "version_major": 2
            },
            "text/plain": [
              "  0%|          | 0/831 [00:00<?, ?it/s]"
            ]
          },
          "metadata": {}
        },
        {
          "output_type": "stream",
          "name": "stdout",
          "text": [
            "Length of test dataset: (830, 224, 224, 3)\n"
          ]
        }
      ]
    },
    {
      "cell_type": "code",
      "metadata": {
        "id": "9itGwg9GRLry"
      },
      "source": [
        "# img = cv2.imread('/content/drive/MyDrive/india_today_ml_asst/13-size_j_1350_1.jpg')"
      ],
      "execution_count": 11,
      "outputs": []
    },
    {
      "cell_type": "code",
      "metadata": {
        "id": "OeLIXThIThwI"
      },
      "source": [
        "# plt.imshow(img)"
      ],
      "execution_count": 12,
      "outputs": []
    },
    {
      "cell_type": "code",
      "metadata": {
        "colab": {
          "base_uri": "https://localhost:8080/"
        },
        "id": "eJQqpDb9VKLn",
        "outputId": "5eba99c9-5241-4a5d-97ba-391bc0b0e7dd"
      },
      "source": [
        "train_files.filepath"
      ],
      "execution_count": 13,
      "outputs": [
        {
          "output_type": "execute_result",
          "data": {
            "text/plain": [
              "0                                          IMG_8006_3.JPG\n",
              "1       lux-rayban-rb3025-58-arista-brown-slvr-mirror-...\n",
              "2                                          IMG_9819_3.JPG\n",
              "3       lux-ray-ban-rb3386-004-9a-size-67-sunglasses_i...\n",
              "4       vincent-chase-k736-black-white-blue-gradient-w...\n",
              "                              ...                        \n",
              "4700                                         IMG_3596.JPG\n",
              "4701                                         D_7736_3.jpg\n",
              "4702                                         IMG_9452.JPG\n",
              "4703                                         M_8210_2.jpg\n",
              "4704                                           J_9118.jpg\n",
              "Name: filepath, Length: 4705, dtype: object"
            ]
          },
          "metadata": {},
          "execution_count": 13
        }
      ]
    },
    {
      "cell_type": "code",
      "metadata": {
        "colab": {
          "base_uri": "https://localhost:8080/",
          "height": 248
        },
        "id": "7901C5TJVrLO",
        "outputId": "a42fe393-f60c-4a01-d45f-87c04798e8db"
      },
      "source": [
        "path = train_files.filepath[0]\n",
        "print(path)\n",
        "img = cv2.imread('/content/drive/MyDrive/india_today_ml_asst/'+path)\n",
        "plt.imshow(img)"
      ],
      "execution_count": 14,
      "outputs": [
        {
          "output_type": "stream",
          "name": "stdout",
          "text": [
            "IMG_8006_3.JPG\n"
          ]
        },
        {
          "output_type": "execute_result",
          "data": {
            "text/plain": [
              "<matplotlib.image.AxesImage at 0x7f6f4c595290>"
            ]
          },
          "metadata": {},
          "execution_count": 14
        },
        {
          "output_type": "display_data",
          "data": {
            "image/png": "[encoded data removed]",
            "text/plain": [
              "<Figure size 432x288 with 1 Axes>"
            ]
          },
          "metadata": {
            "needs_background": "light"
          }
        }
      ]
    },
    {
      "cell_type": "markdown",
      "metadata": {
        "id": "JKV25BpMm8Ri"
      },
      "source": [
        "# Model"
      ]
    },
    {
      "cell_type": "code",
      "metadata": {
        "id": "1TE3LVRFm7Hh"
      },
      "source": [
        "from tensorflow.keras.models import Sequential\n",
        "from tensorflow.keras.layers import Conv2D, MaxPooling2D, Dense, UpSampling2D\n",
        "from tensorflow.keras.optimizers import Adam\n",
        "from tensorflow.keras.callbacks import EarlyStopping, ModelCheckpoint"
      ],
      "execution_count": 15,
      "outputs": []
    },
    {
      "cell_type": "code",
      "metadata": {
        "colab": {
          "base_uri": "https://localhost:8080/"
        },
        "id": "1ffXK25JWpus",
        "outputId": "1a2ceed8-469b-4f2b-c8f0-ce179a346bcb"
      },
      "source": [
        "def encoder_decoder_model():\n",
        "\n",
        "  \"\"\"\n",
        "  Used to build Convolutional Autoencoder model architecture to get compressed image data which is easier to process.\n",
        "  Returns:\n",
        "  Auto encoder model\n",
        "  \"\"\"\n",
        "  #Encoder \n",
        "  model = Sequential(name='Convolutional_AutoEncoder_Model')\n",
        "  model.add(Conv2D(64, kernel_size=(3, 3),activation='relu',input_shape=(224, 224, 3),padding='same', name='Encoding_Conv2D_1'))\n",
        "  model.add(MaxPooling2D(pool_size=(2, 2), strides=2, padding='same', name='Encoding_MaxPooling2D_1'))\n",
        "  model.add(Conv2D(128, kernel_size=(3, 3),strides=1,kernel_regularizer = tf.keras.regularizers.L2(0.001),activation='relu',padding='same', name='Encoding_Conv2D_2'))\n",
        "  model.add(MaxPooling2D(pool_size=(2, 2), strides=2, padding='same', name='Encoding_MaxPooling2D_2'))\n",
        "  model.add(Conv2D(256, kernel_size=(3, 3), activation='relu',kernel_regularizer= tf.keras.regularizers.L2(0.001), padding='same', name='Encoding_Conv2D_3'))\n",
        "  model.add(MaxPooling2D(pool_size=(2, 2), strides=2, padding='same', name='Encoding_MaxPooling2D_3'))\n",
        "  model.add(Conv2D(512, kernel_size=(3, 3), activation='relu',kernel_regularizer= tf.keras.regularizers.L2(0.001), padding='same', name='Encoding_Conv2D_4'))\n",
        "  model.add(MaxPooling2D(pool_size=(2, 2), strides=2,padding='valid', name='Encoding_MaxPooling2D_4'))\n",
        "  model.add(Conv2D(512, kernel_size=(3, 3), activation='relu', padding='same', name='Encoding_Conv2D_5'))\n",
        "  model.add(MaxPooling2D(pool_size=(2,2), strides=2, padding='valid'))\n",
        "    \n",
        "  #Decoder\n",
        "  model.add(Conv2D(512, kernel_size=(3, 3), kernel_regularizer = tf.keras.regularizers.L2(0.001),activation='relu', padding='same', name='Decoding_Conv2D_1'))\n",
        "  model.add(UpSampling2D((2, 2), name='Decoding_Upsamping2D_1'))\n",
        "  model.add(Conv2D(512, kernel_size=(3, 3), kernel_regularizer = tf.keras.regularizers.L2(0.001), activation='relu', padding='same', name='Decoding_Conv2D_2'))\n",
        "  model.add(UpSampling2D((2, 2), name='Decoding_Upsamping2D_2'))\n",
        "  model.add(Conv2D(256, kernel_size=(3, 3), kernel_regularizer = tf.keras.regularizers.L2(0.001), activation='relu', padding='same',name='Decoding_Conv2D_3'))\n",
        "  model.add(UpSampling2D((2, 2),name='Decoding_Upsamping2D_3'))\n",
        "  model.add(Conv2D(128, kernel_size=(3, 3), activation='relu', kernel_regularizer = tf.keras.regularizers.L2(0.001), padding='same',name='Decoding_Conv2D_4'))\n",
        "  model.add(UpSampling2D((2, 2),name='Decoding_Upsamping2D_4'))\n",
        "  model.add(Conv2D(64, kernel_size=(3, 3), activation='relu', kernel_regularizer = tf.keras.regularizers.L2(0.001), padding='same',name='Decoding_Conv2D_5'))\n",
        "  model.add(UpSampling2D((2, 2),name='Decoding_Upsamping2D_5'))\n",
        "  model.add(Conv2D(3, kernel_size=(3, 3), padding='same',activation='sigmoid',name='Decoding_Output'))\n",
        "  return model\n",
        "    \n",
        "model = encoder_decoder_model()\n",
        "model.summary()"
      ],
      "execution_count": 16,
      "outputs": [
        {
          "output_type": "stream",
          "name": "stdout",
          "text": [
            "Model: \"Convolutional_AutoEncoder_Model\"\n",
            "_________________________________________________________________\n",
            "Layer (type)                 Output Shape              Param #   \n",
            "=================================================================\n",
            "Encoding_Conv2D_1 (Conv2D)   (None, 224, 224, 64)      1792      \n",
            "_________________________________________________________________\n",
            "Encoding_MaxPooling2D_1 (Max (None, 112, 112, 64)      0         \n",
            "_________________________________________________________________\n",
            "Encoding_Conv2D_2 (Conv2D)   (None, 112, 112, 128)     73856     \n",
            "_________________________________________________________________\n",
            "Encoding_MaxPooling2D_2 (Max (None, 56, 56, 128)       0         \n",
            "_________________________________________________________________\n",
            "Encoding_Conv2D_3 (Conv2D)   (None, 56, 56, 256)       295168    \n",
            "_________________________________________________________________\n",
            "Encoding_MaxPooling2D_3 (Max (None, 28, 28, 256)       0         \n",
            "_________________________________________________________________\n",
            "Encoding_Conv2D_4 (Conv2D)   (None, 28, 28, 512)       1180160   \n",
            "_________________________________________________________________\n",
            "Encoding_MaxPooling2D_4 (Max (None, 14, 14, 512)       0         \n",
            "_________________________________________________________________\n",
            "Encoding_Conv2D_5 (Conv2D)   (None, 14, 14, 512)       2359808   \n",
            "_________________________________________________________________\n",
            "max_pooling2d (MaxPooling2D) (None, 7, 7, 512)         0         \n",
            "_________________________________________________________________\n",
            "Decoding_Conv2D_1 (Conv2D)   (None, 7, 7, 512)         2359808   \n",
            "_________________________________________________________________\n",
            "Decoding_Upsamping2D_1 (UpSa (None, 14, 14, 512)       0         \n",
            "_________________________________________________________________\n",
            "Decoding_Conv2D_2 (Conv2D)   (None, 14, 14, 512)       2359808   \n",
            "_________________________________________________________________\n",
            "Decoding_Upsamping2D_2 (UpSa (None, 28, 28, 512)       0         \n",
            "_________________________________________________________________\n",
            "Decoding_Conv2D_3 (Conv2D)   (None, 28, 28, 256)       1179904   \n",
            "_________________________________________________________________\n",
            "Decoding_Upsamping2D_3 (UpSa (None, 56, 56, 256)       0         \n",
            "_________________________________________________________________\n",
            "Decoding_Conv2D_4 (Conv2D)   (None, 56, 56, 128)       295040    \n",
            "_________________________________________________________________\n",
            "Decoding_Upsamping2D_4 (UpSa (None, 112, 112, 128)     0         \n",
            "_________________________________________________________________\n",
            "Decoding_Conv2D_5 (Conv2D)   (None, 112, 112, 64)      73792     \n",
            "_________________________________________________________________\n",
            "Decoding_Upsamping2D_5 (UpSa (None, 224, 224, 64)      0         \n",
            "_________________________________________________________________\n",
            "Decoding_Output (Conv2D)     (None, 224, 224, 3)       1731      \n",
            "=================================================================\n",
            "Total params: 10,180,867\n",
            "Trainable params: 10,180,867\n",
            "Non-trainable params: 0\n",
            "_________________________________________________________________\n"
          ]
        }
      ]
    },
    {
      "cell_type": "code",
      "metadata": {
        "id": "qnIM5F2GW5Cv"
      },
      "source": [
        "optimizer = Adam(learning_rate=0.001) \n",
        "model = encoder_decoder_model() \n",
        "model.compile(optimizer=optimizer, loss='mse') \n",
        "early_stopping = EarlyStopping(monitor='val_loss', mode='min',verbose=1,patience=6,min_delta=0.0001) \n",
        "checkpoint = ModelCheckpoint('/content/drive/My Drive/encoder_model.h5', monitor='val_loss', mode='min', save_best_only=True) "
      ],
      "execution_count": 17,
      "outputs": []
    },
    {
      "cell_type": "code",
      "metadata": {
        "id": "DtA51P9M-BqS",
        "colab": {
          "base_uri": "https://localhost:8080/"
        },
        "outputId": "48c44399-2c13-41ae-9d8b-e0a73c27a984"
      },
      "source": [
        "model.fit(train_data, train_data, epochs=10, batch_size=32,validation_data=(test_data,test_data),callbacks=[early_stopping,checkpoint])"
      ],
      "execution_count": 18,
      "outputs": [
        {
          "output_type": "stream",
          "name": "stdout",
          "text": [
            "Epoch 1/10\n",
            "147/147 [==============================] - 139s 662ms/step - loss: 0.2698 - val_loss: 0.1175\n",
            "Epoch 2/10\n",
            "147/147 [==============================] - 88s 600ms/step - loss: 0.1036 - val_loss: 0.0999\n",
            "Epoch 3/10\n",
            "147/147 [==============================] - 89s 605ms/step - loss: 0.1000 - val_loss: 0.0995\n",
            "Epoch 4/10\n",
            "147/147 [==============================] - 89s 606ms/step - loss: 0.0998 - val_loss: 0.0993\n",
            "Epoch 5/10\n",
            "147/147 [==============================] - 88s 597ms/step - loss: 0.0919 - val_loss: 0.0617\n",
            "Epoch 6/10\n",
            "147/147 [==============================] - 88s 598ms/step - loss: 0.0522 - val_loss: 0.0413\n",
            "Epoch 7/10\n",
            "147/147 [==============================] - 88s 599ms/step - loss: 0.0372 - val_loss: 0.0338\n",
            "Epoch 8/10\n",
            "147/147 [==============================] - 88s 600ms/step - loss: 0.0326 - val_loss: 0.0342\n",
            "Epoch 9/10\n",
            "147/147 [==============================] - 88s 600ms/step - loss: 0.0296 - val_loss: 0.0283\n",
            "Epoch 10/10\n",
            "147/147 [==============================] - 88s 599ms/step - loss: 0.0278 - val_loss: 0.0274\n"
          ]
        },
        {
          "output_type": "execute_result",
          "data": {
            "text/plain": [
              "<keras.callbacks.History at 0x7f6f40098450>"
            ]
          },
          "metadata": {},
          "execution_count": 18
        }
      ]
    },
    {
      "cell_type": "code",
      "metadata": {
        "id": "SBtRI5aN-Brx"
      },
      "source": [
        ""
      ],
      "execution_count": null,
      "outputs": []
    },
    {
      "cell_type": "code",
      "metadata": {
        "id": "CLkIfuyb-BwY"
      },
      "source": [
        ""
      ],
      "execution_count": null,
      "outputs": []
    }
  ]
}